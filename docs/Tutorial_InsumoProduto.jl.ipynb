{
 "cells": [
  {
   "cell_type": "markdown",
   "metadata": {},
   "source": [
    "**InsumoProduto.jl: um Breve Tutorial**"
   ]
  },
  {
   "cell_type": "markdown",
   "metadata": {},
   "source": [
    "Inicialmente, instalemos os pacotes e dados necessários"
   ]
  },
  {
   "cell_type": "code",
   "execution_count": 1,
   "metadata": {},
   "outputs": [],
   "source": [
    "using LinearAlgebra, PrettyTables,Plots,XLSX,DataFrames,Pkg,HTTP"
   ]
  },
  {
   "cell_type": "markdown",
   "metadata": {},
   "source": [
    "Agora, instalemos o pacote InsumoProduto.jl"
   ]
  },
  {
   "cell_type": "code",
   "execution_count": 2,
   "metadata": {},
   "outputs": [
    {
     "name": "stderr",
     "output_type": "stream",
     "text": [
      "\u001b[32m\u001b[1m    Updating\u001b[22m\u001b[39m git-repo `https://github.com/alanleal-econ/InsumoProduto.jl`\n",
      "\u001b[32m\u001b[1m    Updating\u001b[22m\u001b[39m registry at `~/.julia/registries/General.toml`\n",
      "\u001b[32m\u001b[1m   Resolving\u001b[22m\u001b[39m package versions...\n",
      "\u001b[32m\u001b[1m  No Changes\u001b[22m\u001b[39m to `~/.julia/environments/v1.8/Project.toml`\n",
      "\u001b[32m\u001b[1m  No Changes\u001b[22m\u001b[39m to `~/.julia/environments/v1.8/Manifest.toml`\n"
     ]
    }
   ],
   "source": [
    "Pkg.add(url=\"https://github.com/alanleal-econ/InsumoProduto.jl\")\n",
    "using InsumoProduto"
   ]
  },
  {
   "cell_type": "markdown",
   "metadata": {},
   "source": [
    "0. Leitura dos Dados Necessários"
   ]
  },
  {
   "cell_type": "markdown",
   "metadata": {},
   "source": [
    "Inicialmente, façamos o download do banco de dados contendo a matriz insumo-produto brasileira de 68 setores para 2018. Este banco de dados foi obtido junto ao NEREUS-FEA/USP."
   ]
  },
  {
   "cell_type": "code",
   "execution_count": 3,
   "metadata": {},
   "outputs": [
    {
     "data": {
      "text/plain": [
       "XLSXFile(\"temp_file.xlsx\") containing 11 Worksheets\n",
       "            sheetname size          range        \n",
       "-------------------------------------------------\n",
       "           Referência 7x1           A1:A7        \n",
       "       Matriz Uso SxS 124x84        A1:CF124     \n",
       "                    Z 68x68         A1:BP68      \n",
       "                    y 68x1          A1:A68       \n",
       "                    x 68x1          A1:A68       \n",
       "                    v 68x1          A1:A68       \n",
       "                    r 68x1          A1:A68       \n",
       "                    e 68x1          A1:A68       \n",
       "                    c 68x1          A1:A68       \n",
       "                   sp 68x1          A1:A68       \n",
       "           setores.jl 68x1          A1:A68       \n"
      ]
     },
     "metadata": {},
     "output_type": "display_data"
    }
   ],
   "source": [
    "# URL da planilha no Github\n",
    "url = \"https://raw.githubusercontent.com/alanleal-econ/InsumoProduto.jl/main/dados/MIP%202018%20NEREUS%20Adaptada.xlsx\"\n",
    "# Baixando os dados da planilha\n",
    "response = HTTP.get(url)\n",
    "# Salvando o arquivo temporariamente nesta seção\n",
    "tmp_filename = \"temp_file.xlsx\"\n",
    "open(tmp_filename, \"w\") do file\n",
    "    write(file, response.body)\n",
    "end\n",
    "# Lendo o arquivo temporário\n",
    "data = XLSX.readxlsx(tmp_filename)\n",
    "data"
   ]
  },
  {
   "cell_type": "markdown",
   "metadata": {},
   "source": [
    "Criando os objetos de interesse agora:"
   ]
  },
  {
   "cell_type": "code",
   "execution_count": 4,
   "metadata": {},
   "outputs": [
    {
     "data": {
      "text/plain": [
       "68-element Vector{Any}:\n",
       " \"Agricultura, inclusive o apoio à agricultura e a pós-colheita\"\n",
       " \"Pecuária, inclusive o apoio à pecuária\"\n",
       " \"Produção florestal; pesca e aquicultura\"\n",
       " \"Extração de carvão mineral e de minerais não-metálicos\"\n",
       " \"Extração de petróleo e gás, inclusive as atividades de apoio\"\n",
       " \"Extração de minério de ferro, inclusive beneficiamentos e a aglomeração\"\n",
       " \"Extração de minerais metálicos não-ferrosos, inclusive beneficiamentos\"\n",
       " \"Abate e produtos de carne, inclusive os produtos do laticínio e da pesca\"\n",
       " \"Fabricação e refino de açúcar\"\n",
       " \"Outros produtos alimentares\"\n",
       " ⋮\n",
       " \"Atividades de vigilância, segurança e investigação\"\n",
       " \"Administração pública, defesa e seguridade social\"\n",
       " \"Educação pública\"\n",
       " \"Educação privada\"\n",
       " \"Saúde pública\"\n",
       " \"Saúde privada\"\n",
       " \"Atividades artísticas, criativas e de espetáculos\"\n",
       " \"Organizações associativas e outros serviços pessoais\"\n",
       " \"Serviços domésticos\""
      ]
     },
     "metadata": {},
     "output_type": "display_data"
    }
   ],
   "source": [
    "Z=float.(Matrix(data[\"Z\"][\"A1:BP68\"]))\n",
    "y=float.(vec(data[\"y\"][\"A1:A68\"]))\n",
    "x=float.(vec(data[\"x\"][\"A1:A68\"]))\n",
    "v=float.(vec(data[\"v\"][\"A1:A68\"]))\n",
    "r=float.(vec(data[\"r\"][\"A1:A68\"]))\n",
    "e=float.(vec(data[\"e\"][\"A1:A68\"]))\n",
    "c=float.(vec(data[\"c\"][\"A1:A68\"]))\n",
    "sp=float.(vec(data[\"sp\"][\"A1:A68\"]))\n",
    "Setores=vec(data[\"setores.jl\"][\"A1:A68\"])"
   ]
  },
  {
   "cell_type": "markdown",
   "metadata": {},
   "source": [
    "1. Inversa de Leontief no Modelo Fechado e Aberto"
   ]
  },
  {
   "cell_type": "markdown",
   "metadata": {},
   "source": [
    "Aqui, usamos três funções: uma que calcula os coeficientes técnicos e outras duas que calculam a inversa de Leontief do modelo aberto e do modelo fechado. Primeiramente, calculemos a matriz de coeficientes técnicos:"
   ]
  },
  {
   "cell_type": "markdown",
   "metadata": {},
   "source": [
    "1.1. Matriz A (de coeficientes técnicos) do modelo aberto"
   ]
  },
  {
   "cell_type": "code",
   "execution_count": 5,
   "metadata": {},
   "outputs": [
    {
     "data": {
      "text/plain": [
       "68×68 Matrix{Float64}:\n",
       " 0.0205257    0.034812     0.00414576   …  7.432e-5     0.00145417   0.0\n",
       " 0.00252489   0.0401885    0.00483232      7.432e-5     0.000221034  0.0\n",
       " 0.00355495   0.0094565    0.0544758       0.0          1.74501e-5   0.0\n",
       " 0.000389411  0.00275732   0.00034328      2.47733e-5   2.32668e-5   0.0\n",
       " 5.77836e-5   0.000105292  2.64061e-5      0.000247733  0.000127967  0.0\n",
       " 0.0          0.0          0.0          …  0.0          0.0          0.0\n",
       " 1.25616e-5   1.97422e-5   0.0             0.0          0.0          0.0\n",
       " 0.0001834    0.0137537    0.00100343      0.000198187  0.00112844   0.0\n",
       " 0.000135666  0.000572523  5.28123e-5      0.00022296   0.000436252  0.0\n",
       " 0.00477594   0.0874512    0.0236599       0.00128821   0.00429272   0.0\n",
       " ⋮                                      ⋱  ⋮                         \n",
       " 5.02466e-6   0.0          5.28123e-5      0.00411237   2.32668e-5   0.0\n",
       " 0.000713502  0.000763364  0.000580935  …  0.00515285   0.00413567   0.0\n",
       " 5.02466e-6   0.0          0.0             9.90933e-5   0.000127967  0.0\n",
       " 2.00986e-5   1.97422e-5   0.0             0.000173413  0.00361798   0.0\n",
       " 0.0          0.0          0.0             0.0          0.0          0.0\n",
       " 0.0          0.0          0.0             0.00014864   3.49002e-5   0.0\n",
       " 2.51233e-6   7.89687e-5   7.92184e-5   …  0.016722     0.00557239   0.0\n",
       " 0.000371825  0.000263229  0.000660153     0.00066888   0.00363543   0.0\n",
       " 0.0          0.0          0.0             0.0          0.0          0.0"
      ]
     },
     "metadata": {},
     "output_type": "display_data"
    }
   ],
   "source": [
    "A=matrizA(Z,x)\n",
    "A"
   ]
  },
  {
   "cell_type": "markdown",
   "metadata": {},
   "source": [
    "1.2. Calculando agora a matriz B do modelo aberto. "
   ]
  },
  {
   "cell_type": "code",
   "execution_count": 6,
   "metadata": {},
   "outputs": [
    {
     "data": {
      "text/plain": [
       "68×68 Matrix{Float64}:\n",
       " 1.02716      0.0679303    0.0136487    …  0.00230716   0.00842988   -0.0\n",
       " 0.00322853   1.04879      0.00631778      0.00049703   0.00294043   -0.0\n",
       " 0.00441402   0.0115811    1.05797         0.000334917  0.000725033  -0.0\n",
       " 0.00387101   0.00524368   0.000967033     0.000510913  0.000652047  -0.0\n",
       " 0.022477     0.0214483    0.0114758       0.00561798   0.00873957   -0.0\n",
       " 0.000412575  0.000809079  0.00027606   …  0.000428151  0.00033401   -0.0\n",
       " 0.000391052  0.000363408  0.000119575     0.000313433  0.000230335  -0.0\n",
       " 0.000711904  0.0168321    0.00161408      0.000733416  0.0056871    -0.0\n",
       " 0.00225137   0.00340821   0.00121674      0.000718514  0.00149642   -0.0\n",
       " 0.00830622   0.10455      0.0289694       0.00243872   0.0094989    -0.0\n",
       " ⋮                                      ⋱  ⋮                         \n",
       " 0.00192557   0.00210959   0.00113693      0.00592941   0.00248871   -0.0\n",
       " 0.00288722   0.00292528   0.00139993   …  0.00662495   0.00593763   -0.0\n",
       " 0.000100929  9.55861e-5   3.20243e-5      0.000162012  0.000202646  -0.0\n",
       " 0.00093395   0.00102948   0.000535046     0.00188381   0.00517775   -0.0\n",
       " 6.7961e-6    6.13529e-6   1.65354e-6      2.9259e-6    3.47887e-6   -0.0\n",
       " 9.70621e-6   1.28235e-5   5.42222e-6      0.000182743  5.65286e-5   -0.0\n",
       " 0.000228197  0.000459866  0.000260921  …  1.01805      0.00619555   -0.0\n",
       " 0.00162396   0.0017958    0.00140865      0.00226945   1.00556      -0.0\n",
       " 0.0          0.0          0.0             0.0          0.0           1.0"
      ]
     },
     "metadata": {},
     "output_type": "display_data"
    }
   ],
   "source": [
    "B=inversa_leontief(I(size(A)[1])-A)\n",
    "B"
   ]
  },
  {
   "cell_type": "markdown",
   "metadata": {},
   "source": [
    "1.3. Matriz A do modelo fechado"
   ]
  },
  {
   "cell_type": "code",
   "execution_count": 7,
   "metadata": {},
   "outputs": [
    {
     "data": {
      "text/plain": [
       "69×69 Matrix{Float64}:\n",
       " 0.0205257    0.034812     0.00414576   …  0.00145417   0.0  0.0232975\n",
       " 0.00252489   0.0401885    0.00483232      0.000221034  0.0  0.00885341\n",
       " 0.00355495   0.0094565    0.0544758       1.74501e-5   0.0  0.00576352\n",
       " 0.000389411  0.00275732   0.00034328      2.32668e-5   0.0  6.54499e-5\n",
       " 5.77836e-5   0.000105292  2.64061e-5      0.000127967  0.0  0.000197004\n",
       " 0.0          0.0          0.0          …  0.0          0.0  2.29075e-6\n",
       " 1.25616e-5   1.97422e-5   0.0             0.0          0.0  2.29075e-6\n",
       " 0.0001834    0.0137537    0.00100343      0.00112844   0.0  0.0621453\n",
       " 0.000135666  0.000572523  5.28123e-5      0.000436252  0.0  0.0054991\n",
       " 0.00477594   0.0874512    0.0236599       0.00429272   0.0  0.0581578\n",
       " ⋮                                      ⋱                    \n",
       " 0.000713502  0.000763364  0.000580935  …  0.00413567   0.0  0.00458967\n",
       " 5.02466e-6   0.0          0.0             0.000127967  0.0  0.000334776\n",
       " 2.00986e-5   1.97422e-5   0.0             0.00361798   0.0  0.0414295\n",
       " 0.0          0.0          0.0             0.0          0.0  0.000635518\n",
       " 0.0          0.0          0.0             3.49002e-5   0.0  0.0700664\n",
       " 2.51233e-6   7.89687e-5   7.92184e-5   …  0.00557239   0.0  0.00721781\n",
       " 0.000371825  0.000263229  0.000660153     0.00363543   0.0  0.0313862\n",
       " 0.0          0.0          0.0             0.0          0.0  0.024364\n",
       " 0.0863136    0.146204     0.0595458       0.264049     1.0  0.0"
      ]
     },
     "metadata": {},
     "output_type": "display_data"
    }
   ],
   "source": [
    "Af=map(Float64,vcat(hcat(A,c./sum(r)),hcat(r'./x',0)))\n",
    "Af"
   ]
  },
  {
   "cell_type": "markdown",
   "metadata": {},
   "source": [
    "1.4. Inversa de Leontief no Modelo Fechado"
   ]
  },
  {
   "cell_type": "code",
   "execution_count": 8,
   "metadata": {},
   "outputs": [
    {
     "data": {
      "text/plain": [
       "69×69 Matrix{Float64}:\n",
       " 1.04926      0.100372     0.0272799    …  0.113882     0.113882\n",
       " 0.014927     1.06597      0.0135345       0.0602925    0.0602925\n",
       " 0.007293     0.0158079    1.05975         0.0148379    0.0148379\n",
       " 0.00447054   0.00612389   0.00133688      0.00308987   0.00308987\n",
       " 0.0323082    0.0358822    0.0175406       0.0506687    0.0506687\n",
       " 0.000799534  0.0013772    0.000514774  …  0.00199434   0.00199434\n",
       " 0.000607683  0.000681462  0.000253215     0.00111649   0.00111649\n",
       " 0.0264091    0.0545602    0.0174666       0.13244      0.13244\n",
       " 0.00548197   0.00815131   0.00320969      0.0166501    0.0166501\n",
       " 0.0363859    0.145776     0.0462917       0.144719     0.144719\n",
       " ⋮                                      ⋱               \n",
       " 0.00603855   0.007552     0.00334397   …  0.0162416    0.0162416\n",
       " 0.000292115  0.00037628   0.000149966     0.000985344  0.000985344\n",
       " 0.0159373    0.0230571    0.00979058      0.0773254    0.0773254\n",
       " 0.000255547  0.000371346  0.000155107     0.00128203   0.00128203\n",
       " 0.0269827    0.039614     0.016645        0.139015     0.139015\n",
       " 0.00315305   0.00475406   0.00206525   …  0.0150743    0.0150743\n",
       " 0.0141127    0.0201315    0.00911294      0.0643655    0.0643655\n",
       " 0.00826749   0.0121381    0.00510019      1.04261      0.0426096\n",
       " 0.339331     0.498199     0.209333        1.74887      1.74887"
      ]
     },
     "metadata": {},
     "output_type": "display_data"
    }
   ],
   "source": [
    "# Inversa de Leontief do Modelo Fechado\n",
    "Bf=inversa_leontief(I(size(Af)[1])-Af)\n",
    "Bf"
   ]
  },
  {
   "cell_type": "markdown",
   "metadata": {},
   "source": [
    "2. Multiplicadores"
   ]
  },
  {
   "cell_type": "markdown",
   "metadata": {},
   "source": [
    "2.1. Multiplicadores da Produção Simples"
   ]
  },
  {
   "cell_type": "code",
   "execution_count": 9,
   "metadata": {},
   "outputs": [
    {
     "data": {
      "text/plain": [
       "68×6 Matrix{Any}:\n",
       " \"Agricultura, inclusive o apoio à agricultura e a pós-colheita\"             …  1.05051   0.374714  1.34672\n",
       " \"Pecuária, inclusive o apoio à pecuária\"                                       1.54233   0.447996  1.42781\n",
       " \"Produção florestal; pesca e aquicultura\"                                      0.648056  0.215949  1.16971\n",
       " \"Extração de carvão mineral e de minerais não-metálicos\"                       1.96104   0.467793  1.41277\n",
       " \"Extração de petróleo e gás, inclusive as atividades de apoio\"                 1.13795   0.384088  1.28948\n",
       " \"Extração de minério de ferro, inclusive beneficiamentos e a aglomeração\"   …  1.06191   0.414282  1.34019\n",
       " \"Extração de minerais metálicos não-ferrosos, inclusive beneficiamentos\"       1.6731    0.484923  1.41782\n",
       " \"Abate e produtos de carne, inclusive os produtos do laticínio e da pesca\"     1.96095   0.77389   1.70964\n",
       " \"Fabricação e refino de açúcar\"                                                1.98739   0.78908   1.59306\n",
       " \"Outros produtos alimentares\"                                                  1.78395   0.705231  1.59324\n",
       " ⋮                                                                           ⋱                      ⋮\n",
       " \"Atividades de vigilância, segurança e investigação\"                           4.22312   0.154585  1.09648\n",
       " \"Administração pública, defesa e seguridade social\"                         …  3.87705   0.241726  1.14758\n",
       " \"Educação pública\"                                                             4.67972   0.134146  1.0893\n",
       " \"Educação privada\"                                                             3.87818   0.237777  1.14665\n",
       " \"Saúde pública\"                                                                4.03752   0.272223  1.18929\n",
       " \"Saúde privada\"                                                                2.39343   0.360478  1.2324\n",
       " \"Atividades artísticas, criativas e de espetáculos\"                         …  2.41924   0.368033  1.21437\n",
       " \"Organizações associativas e outros serviços pessoais\"                         2.25503   0.393162  1.27952\n",
       " \"Serviços domésticos\"                                                          5.41419   0.0       1.0"
      ]
     },
     "metadata": {},
     "output_type": "display_data"
    }
   ],
   "source": [
    "multiplicadores_produção(A,B,Bf,Setores)"
   ]
  },
  {
   "cell_type": "markdown",
   "metadata": {},
   "source": [
    "2.2. Multiplicadores do Emprego Truncado"
   ]
  },
  {
   "cell_type": "code",
   "execution_count": 10,
   "metadata": {},
   "outputs": [
    {
     "data": {
      "text/plain": [
       "68×6 Matrix{Any}:\n",
       " \"Agricultura, inclusive o apoio à agricultura e a pós-colheita\"             …  0.711177  0.374714  1.34672\n",
       " \"Pecuária, inclusive o apoio à pecuária\"                                       1.04414   0.447996  1.42781\n",
       " \"Produção florestal; pesca e aquicultura\"                                      0.438723  0.215949  1.16971\n",
       " \"Extração de carvão mineral e de minerais não-metálicos\"                       1.32759   0.467793  1.41277\n",
       " \"Extração de petróleo e gás, inclusive as atividades de apoio\"                 0.770373  0.384088  1.28948\n",
       " \"Extração de minério de ferro, inclusive beneficiamentos e a aglomeração\"   …  0.718894  0.414282  1.34019\n",
       " \"Extração de minerais metálicos não-ferrosos, inclusive beneficiamentos\"       1.13266   0.484923  1.41782\n",
       " \"Abate e produtos de carne, inclusive os produtos do laticínio e da pesca\"     1.32753   0.77389   1.70964\n",
       " \"Fabricação e refino de açúcar\"                                                1.34543   0.78908   1.59306\n",
       " \"Outros produtos alimentares\"                                                  1.20771   0.705231  1.59324\n",
       " ⋮                                                                           ⋱                      ⋮\n",
       " \"Atividades de vigilância, segurança e investigação\"                           2.85898   0.154585  1.09648\n",
       " \"Administração pública, defesa e seguridade social\"                         …  2.6247    0.241726  1.14758\n",
       " \"Educação pública\"                                                             3.16809   0.134146  1.0893\n",
       " \"Educação privada\"                                                             2.62546   0.237777  1.14665\n",
       " \"Saúde pública\"                                                                2.73333   0.272223  1.18929\n",
       " \"Saúde privada\"                                                                1.62031   0.360478  1.2324\n",
       " \"Atividades artísticas, criativas e de espetáculos\"                         …  1.63779   0.368033  1.21437\n",
       " \"Organizações associativas e outros serviços pessoais\"                         1.52662   0.393162  1.27952\n",
       " \"Serviços domésticos\"                                                          3.66532   0.0       1.0"
      ]
     },
     "metadata": {},
     "output_type": "display_data"
    }
   ],
   "source": [
    "multiplicadores_produção_truncado(A,B,Bf,Setores)"
   ]
  },
  {
   "cell_type": "markdown",
   "metadata": {},
   "source": [
    "2.3. Multiplicadores de Emprego"
   ]
  },
  {
   "cell_type": "code",
   "execution_count": 11,
   "metadata": {},
   "outputs": [
    {
     "data": {
      "text/plain": [
       "68×5 Matrix{Any}:\n",
       " \"Agricultura, inclusive o apoio à agricultura e a pós-colheita\"             …   1.21145   26.8841   1.6001\n",
       " \"Pecuária, inclusive o apoio à pecuária\"                                        1.18496   55.527    1.43225\n",
       " \"Produção florestal; pesca e aquicultura\"                                       1.15996   28.5658   1.35038\n",
       " \"Extração de carvão mineral e de minerais não-metálicos\"                        1.80544   22.8609   3.86781\n",
       " \"Extração de petróleo e gás, inclusive as atividades de apoio\"                 18.8246    11.2513  50.696\n",
       " \"Extração de minério de ferro, inclusive beneficiamentos e a aglomeração\"   …  13.0586    11.6134  30.2545\n",
       " \"Extração de minerais metálicos não-ferrosos, inclusive beneficiamentos\"        4.15315   16.9796  10.7177\n",
       " \"Abate e produtos de carne, inclusive os produtos do laticínio e da pesca\"      9.02458   35.8058  13.6824\n",
       " \"Fabricação e refino de açúcar\"                                                 5.6437    29.4792   9.71477\n",
       " \"Outros produtos alimentares\"                                                   3.96429   26.7676   6.76811\n",
       " ⋮                                                                           ⋱                      \n",
       " \"Atividades de vigilância, segurança e investigação\"                            1.09828   46.1775   2.54512\n",
       " \"Administração pública, defesa e seguridade social\"                         …   1.54012   32.7532   5.82921\n",
       " \"Educação pública\"                                                              1.17894   43.199    3.60942\n",
       " \"Educação privada\"                                                              1.13374   46.8598   2.33491\n",
       " \"Saúde pública\"                                                                 1.41307   40.5621   3.70625\n",
       " \"Saúde privada\"                                                                 1.48517   31.687    2.79963\n",
       " \"Atividades artísticas, criativas e de espetáculos\"                         …   1.13876   46.7146   1.67937\n",
       " \"Organizações associativas e outros serviços pessoais\"                          1.21736   45.9015   1.75254\n",
       " \"Serviços domésticos\"                                                           1.0      121.812    1.38175"
      ]
     },
     "metadata": {},
     "output_type": "display_data"
    }
   ],
   "source": [
    "multiplicadores_emprego(e,x,B,Bf,Setores)"
   ]
  },
  {
   "cell_type": "markdown",
   "metadata": {},
   "source": [
    "3. Índices de Ligação"
   ]
  },
  {
   "cell_type": "markdown",
   "metadata": {},
   "source": [
    "Índices de Ligação para trás"
   ]
  },
  {
   "cell_type": "code",
   "execution_count": 12,
   "metadata": {},
   "outputs": [
    {
     "data": {
      "text/plain": [
       "68×2 Matrix{Any}:\n",
       " \"Agricultura, inclusive o apoio à agricultura e a pós-colheita\"             …  0.953665\n",
       " \"Pecuária, inclusive o apoio à pecuária\"                                       1.03918\n",
       " \"Produção florestal; pesca e aquicultura\"                                      0.767644\n",
       " \"Extração de carvão mineral e de minerais não-metálicos\"                       1.04182\n",
       " \"Extração de petróleo e gás, inclusive as atividades de apoio\"                 0.927149\n",
       " \"Extração de minério de ferro, inclusive beneficiamentos e a aglomeração\"   …  0.971967\n",
       " \"Extração de minerais metálicos não-ferrosos, inclusive beneficiamentos\"       1.05411\n",
       " \"Abate e produtos de carne, inclusive os produtos do laticínio e da pesca\"     1.37586\n",
       " \"Fabricação e refino de açúcar\"                                                1.31969\n",
       " \"Outros produtos alimentares\"                                                  1.27334\n",
       " ⋮                                                                           ⋱  \n",
       " \"Atividades de vigilância, segurança e investigação\"                           0.693082\n",
       " \"Administração pública, defesa e seguridade social\"                         …  0.769666\n",
       " \"Educação pública\"                                                             0.677779\n",
       " \"Educação privada\"                                                             0.766963\n",
       " \"Saúde pública\"                                                                0.809668\n",
       " \"Saúde privada\"                                                                0.882442\n",
       " \"Atividades artísticas, criativas e de espetáculos\"                         …  0.876643\n",
       " \"Organizações associativas e outros serviços pessoais\"                         0.926653\n",
       " \"Serviços domésticos\"                                                          0.553994"
      ]
     },
     "metadata": {},
     "output_type": "display_data"
    }
   ],
   "source": [
    "lig_tras(B,Setores)"
   ]
  },
  {
   "cell_type": "markdown",
   "metadata": {},
   "source": [
    "Índices de Ligação para frente"
   ]
  },
  {
   "cell_type": "code",
   "execution_count": 13,
   "metadata": {},
   "outputs": [
    {
     "data": {
      "text/plain": [
       "68×2 Matrix{Any}:\n",
       " \"Agricultura, inclusive o apoio à agricultura e a pós-colheita\"             …  1.89852\n",
       " \"Pecuária, inclusive o apoio à pecuária\"                                       0.873513\n",
       " \"Produção florestal; pesca e aquicultura\"                                      0.712919\n",
       " \"Extração de carvão mineral e de minerais não-metálicos\"                       0.684382\n",
       " \"Extração de petróleo e gás, inclusive as atividades de apoio\"                 1.35186\n",
       " \"Extração de minério de ferro, inclusive beneficiamentos e a aglomeração\"   …  0.711683\n",
       " \"Extração de minerais metálicos não-ferrosos, inclusive beneficiamentos\"       0.675919\n",
       " \"Abate e produtos de carne, inclusive os produtos do laticínio e da pesca\"     0.758428\n",
       " \"Fabricação e refino de açúcar\"                                                0.668108\n",
       " \"Outros produtos alimentares\"                                                  1.00567\n",
       " ⋮                                                                           ⋱  \n",
       " \"Atividades de vigilância, segurança e investigação\"                           0.758305\n",
       " \"Administração pública, defesa e seguridade social\"                         …  0.730527\n",
       " \"Educação pública\"                                                             0.565176\n",
       " \"Educação privada\"                                                             0.657822\n",
       " \"Saúde pública\"                                                                0.55545\n",
       " \"Saúde privada\"                                                                0.629314\n",
       " \"Atividades artísticas, criativas e de espetáculos\"                         …  0.634016\n",
       " \"Organizações associativas e outros serviços pessoais\"                         0.719211\n",
       " \"Serviços domésticos\"                                                          0.553994"
      ]
     },
     "metadata": {},
     "output_type": "display_data"
    }
   ],
   "source": [
    "lig_frente(B,Setores)"
   ]
  },
  {
   "cell_type": "markdown",
   "metadata": {},
   "source": [
    "4. Extração Hipotética"
   ]
  },
  {
   "cell_type": "code",
   "execution_count": 14,
   "metadata": {},
   "outputs": [
    {
     "data": {
      "text/plain": [
       "1×2 Matrix{Float64}:\n",
       " 17544.4  0.146083"
      ]
     },
     "metadata": {},
     "output_type": "display_data"
    }
   ],
   "source": [
    "extracao_hipotetica(A,12,y)\n",
    "# Extrai o  décimo-segundo setor desta economia, qual seja o setor: \"Fabricação de produtos do fumo\"\n",
    "# Retorna dois valores: primeiro, valor absoluto e, depois, o percentual de redução em relação à situação inicial"
   ]
  }
 ],
 "metadata": {
  "kernelspec": {
   "display_name": "Julia 1.8.5",
   "language": "julia",
   "name": "julia-1.8"
  },
  "language_info": {
   "file_extension": ".jl",
   "mimetype": "application/julia",
   "name": "julia",
   "version": "1.8.5"
  }
 },
 "nbformat": 4,
 "nbformat_minor": 2
}
